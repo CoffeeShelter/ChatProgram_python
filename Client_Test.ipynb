{
 "cells": [
  {
   "cell_type": "code",
   "execution_count": 1,
   "metadata": {},
   "outputs": [],
   "source": [
    "from PyQt5.QtWidgets import *\n",
    "from Client import Client\n",
    "\n",
    "client = Client()\n",
    "client.run()"
   ]
  }
 ],
 "metadata": {
  "interpreter": {
   "hash": "c4bee050e1341ac3f9de0e0724fcbba74365f594363dd4e927c5bde2da7144fd"
  },
  "kernelspec": {
   "display_name": "Python 3.7.10 64-bit ('certificationMark_detection': conda)",
   "language": "python",
   "name": "python3"
  },
  "language_info": {
   "codemirror_mode": {
    "name": "ipython",
    "version": 3
   },
   "file_extension": ".py",
   "mimetype": "text/x-python",
   "name": "python",
   "nbconvert_exporter": "python",
   "pygments_lexer": "ipython3",
   "version": "3.7.10"
  },
  "orig_nbformat": 4
 },
 "nbformat": 4,
 "nbformat_minor": 2
}
