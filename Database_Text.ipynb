{
 "cells": [
  {
   "cell_type": "code",
   "execution_count": 13,
   "metadata": {},
   "outputs": [
    {
     "name": "stdout",
     "output_type": "stream",
     "text": [
      "test@gmail.com\n"
     ]
    }
   ],
   "source": [
    "from Database import DBManager\n",
    "import pandas as pd\n",
    "\n",
    "db = DBManager()\n",
    "db.connect(\"root\", \"1234\", \"localhost\")\n",
    "\n",
    "result = db.search_by_id(\"root\")\n",
    "result = result.fetchall()\n",
    "\n",
    "print(result[0][\"EMAIL\"])"
   ]
  }
 ],
 "metadata": {
  "interpreter": {
   "hash": "c4bee050e1341ac3f9de0e0724fcbba74365f594363dd4e927c5bde2da7144fd"
  },
  "kernelspec": {
   "display_name": "Python 3.7.10 64-bit ('certificationMark_detection': conda)",
   "language": "python",
   "name": "python3"
  },
  "language_info": {
   "name": "python",
   "version": "3.7.10"
  },
  "orig_nbformat": 4
 },
 "nbformat": 4,
 "nbformat_minor": 2
}
